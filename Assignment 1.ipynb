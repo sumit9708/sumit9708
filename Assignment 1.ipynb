{
 "cells": [
  {
   "cell_type": "markdown",
   "id": "d0ff4fb9",
   "metadata": {},
   "source": [
    "## 1. In the below elements which of them are values or an expression? eg:- values can be\n",
    "integer or string and expressions will be mathematical operators.\n",
    "\n",
    "Values are 'hello',-87.8,6\n",
    "\n",
    "Expressions are * , -,/,+"
   ]
  },
  {
   "cell_type": "markdown",
   "id": "317b1791",
   "metadata": {},
   "source": [
    "## 2. What is the difference between string and variable?\n",
    "\n",
    "string is homogeneous entity and  write as value of variable where as verible have a value as integer or string or list...etc"
   ]
  },
  {
   "cell_type": "markdown",
   "id": "9c8aeeeb",
   "metadata": {},
   "source": [
    "## 3. Describe three different data types.\n",
    "\n",
    "Numeric data types - these data types includes integer, float and complex numbers.\n",
    "Boolean Data types- these data types having values in True and False\n",
    "sequence Data type- in this data types list, tuple and list is included."
   ]
  },
  {
   "cell_type": "markdown",
   "id": "1a7bf9e1",
   "metadata": {},
   "source": [
    "## 4. What is an expression made up of? What do all expressions do?\n",
    "\n",
    "expressions are combination of values(2,3,5..etc) and operators(+,-,*..etc)"
   ]
  },
  {
   "cell_type": "markdown",
   "id": "f011dd5f",
   "metadata": {},
   "source": [
    "## 5. This assignment statements, like spam = 10. What is the difference between an\n",
    "expression and a statement?\n",
    "\n",
    "expressinons are having value and it use to give value in output...whereas an statement check whether given value is True or False"
   ]
  },
  {
   "cell_type": "code",
   "execution_count": 6,
   "id": "6f39ab3b",
   "metadata": {},
   "outputs": [
    {
     "data": {
      "text/plain": [
       "23"
      ]
     },
     "execution_count": 6,
     "metadata": {},
     "output_type": "execute_result"
    }
   ],
   "source": [
    "## 6. After running the following code, what does the variable bacon contain?\n",
    "bacon = 22\n",
    "bacon + 1"
   ]
  },
  {
   "cell_type": "markdown",
   "id": "975b8e42",
   "metadata": {},
   "source": [
    "## 7. What should the values of the following two terms be?\n",
    "   \n",
    "(a)'spam' + 'spamspam'\n",
    "(b) spam * 3"
   ]
  },
  {
   "cell_type": "code",
   "execution_count": 8,
   "id": "0edef90a",
   "metadata": {},
   "outputs": [
    {
     "data": {
      "text/plain": [
       "'spamspamspam'"
      ]
     },
     "execution_count": 8,
     "metadata": {},
     "output_type": "execute_result"
    }
   ],
   "source": [
    "'spam' + 'spamspam'"
   ]
  },
  {
   "cell_type": "code",
   "execution_count": 9,
   "id": "77cc0535",
   "metadata": {},
   "outputs": [
    {
     "data": {
      "text/plain": [
       "'spamspamspam'"
      ]
     },
     "execution_count": 9,
     "metadata": {},
     "output_type": "execute_result"
    }
   ],
   "source": [
    "'spam' * 3"
   ]
  },
  {
   "cell_type": "markdown",
   "id": "9bcc4cef",
   "metadata": {},
   "source": [
    "## 8. Why is eggs a valid variable name while 100 is invalid?\n",
    "\n",
    "a veriable cant be an integer thatswhy eggs is valid but 100 is invalid integer."
   ]
  },
  {
   "cell_type": "markdown",
   "id": "20630726",
   "metadata": {},
   "source": [
    "## 9. What three functions can be used to get the integer, floating-point number, or stringversion of a value?\n",
    "\n",
    "(1) int for getting integer\n",
    "(2) float for getting float\n",
    "(3) str for getting string"
   ]
  },
  {
   "cell_type": "markdown",
   "id": "46f1b530",
   "metadata": {},
   "source": [
    "## 10. Why does this expression cause an error? How can you fix it?\n",
    "\n",
    "'I have eaten' + 99 + 'burritos'"
   ]
  },
  {
   "cell_type": "markdown",
   "id": "cce0e950",
   "metadata": {},
   "source": [
    "\"i have eaten\"+99+\"burritos\"\n",
    "\n",
    "this is a type error it can not concade string with integer for concadination operation we need to convert integer into string."
   ]
  },
  {
   "cell_type": "code",
   "execution_count": 11,
   "id": "ee5f11e6",
   "metadata": {},
   "outputs": [
    {
     "data": {
      "text/plain": [
       "'i have eaten99burritos'"
      ]
     },
     "execution_count": 11,
     "metadata": {},
     "output_type": "execute_result"
    }
   ],
   "source": [
    "\"i have eaten\"+'99'+\"burritos\""
   ]
  },
  {
   "cell_type": "code",
   "execution_count": null,
   "id": "107758bd",
   "metadata": {},
   "outputs": [],
   "source": []
  }
 ],
 "metadata": {
  "kernelspec": {
   "display_name": "Python 3 (ipykernel)",
   "language": "python",
   "name": "python3"
  },
  "language_info": {
   "codemirror_mode": {
    "name": "ipython",
    "version": 3
   },
   "file_extension": ".py",
   "mimetype": "text/x-python",
   "name": "python",
   "nbconvert_exporter": "python",
   "pygments_lexer": "ipython3",
   "version": "3.9.11"
  }
 },
 "nbformat": 4,
 "nbformat_minor": 5
}
